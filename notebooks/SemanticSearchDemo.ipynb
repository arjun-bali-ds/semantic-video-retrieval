{
 "cells": [
  {
   "cell_type": "code",
   "execution_count": null,
   "id": "aa772d84",
   "metadata": {},
   "outputs": [],
   "source": [
    "import os\n",
    "import sys\n",
    "from clip_embedding import embed_frame,embed_text\n",
    "import os\n",
    "import numpy as np\n",
    "import faiss\n",
    "import pickle\n",
    "\n",
    "sys.path.insert(0, \"/Users/abali/github projects/semantic-video-retrieval\")"
   ]
  },
  {
   "cell_type": "code",
   "execution_count": null,
   "id": "9b901d97",
   "metadata": {},
   "outputs": [],
   "source": [
    "\n",
    "\n",
    "from extract_chunks_updated import extract_chunks\n",
    "# ✅ Set paths\n",
    "video_folder = \"/Users/abali/github projects/semantic-video-retrieval/data/videos\"\n",
    "frames_output_folder = \"/Users/abali/github projects/semantic-video-retrieval/data/frames\"\n",
    "# index_path = \"/Users/abali/github projects/semantic-video-retrieval/embeddings/faiss_index\"\n",
    "# metadata_path = \"/Users/abali/github projects/semantic-video-retrieval/embeddings/metadata\"\n",
    "\n",
    "# ✅ Extract chunks from videos\n",
    "all_metadata = []\n",
    "for fname in os.listdir(video_folder):\n",
    "    if fname.endswith(\".mp4\"):\n",
    "        video_path = os.path.join(video_folder, fname)\n",
    "        print(f\"📦 Processing {fname}...\")\n",
    "        chunks = extract_chunks(video_path, frames_output_folder, chunk_duration=15, fps=1)\n",
    "        all_metadata.extend(chunks)\n",
    "\n"
   ]
  },
  {
   "cell_type": "code",
   "execution_count": null,
   "id": "c60dcbe6",
   "metadata": {},
   "outputs": [],
   "source": [
    "\n",
    "\n",
    "def get_chunk_embeddings(chunk_folder_root):\n",
    "    \"\"\"\n",
    "    Given a directory of chunks (each containing frames), compute the average embedding\n",
    "    for each chunk and return a list of {chunk_id, embedding}.\n",
    "    \"\"\"\n",
    "    chunk_embeddings = []\n",
    "\n",
    "    for chunk_name in sorted(os.listdir(chunk_folder_root)):\n",
    "        chunk_path = os.path.join(chunk_folder_root, chunk_name)\n",
    "        if not os.path.isdir(chunk_path):\n",
    "            continue\n",
    "\n",
    "        print(f\"🔍 Processing {chunk_name}...\")\n",
    "        frame_embeddings = []\n",
    "\n",
    "        for fname in sorted(os.listdir(chunk_path)):\n",
    "            if fname.lower().endswith((\".jpg\", \".jpeg\", \".png\")):\n",
    "                image_path = os.path.join(chunk_path, fname)\n",
    "                emb = embed_frame(image_path)\n",
    "                if emb is not None and not np.isnan(emb).any():\n",
    "                    frame_embeddings.append(emb)\n",
    "        \n",
    "        if frame_embeddings:\n",
    "            mean_emb = np.mean(frame_embeddings, axis=0).astype(\"float32\")\n",
    "            chunk_embeddings.append({\n",
    "                \"chunk_id\": chunk_name,\n",
    "                \"embedding\": mean_emb\n",
    "            })\n",
    "            print(f\"✅ Embedded: {chunk_name} ({len(frame_embeddings)} frames)\")\n",
    "        else:\n",
    "            print(f\"⚠️ No valid frames found for {chunk_name}\")\n",
    "\n",
    "    return chunk_embeddings\n"
   ]
  },
  {
   "cell_type": "code",
   "execution_count": null,
   "id": "4a99a905",
   "metadata": {},
   "outputs": [],
   "source": [
    "chunk_embeddings=get_chunk_embeddings('/Users/abali/github projects/semantic-video-retrieval/data/chunks')"
   ]
  },
  {
   "cell_type": "code",
   "execution_count": null,
   "id": "37738793",
   "metadata": {},
   "outputs": [],
   "source": [
    "chunk_embeddings"
   ]
  },
  {
   "cell_type": "code",
   "execution_count": null,
   "id": "1bd102c0",
   "metadata": {},
   "outputs": [],
   "source": [
    "import os\n",
    "import pickle\n",
    "import numpy as np\n",
    "import faiss\n",
    "\n",
    "def store_embeddings_to_faiss(embedding_data, index_path, metadata_path):\n",
    "    if not embedding_data:\n",
    "        print(\"⚠️ No embeddings to store.\")\n",
    "        return\n",
    "\n",
    "    os.makedirs(os.path.dirname(index_path), exist_ok=True)\n",
    "    os.makedirs(os.path.dirname(metadata_path), exist_ok=True)\n",
    "\n",
    "    embeddings = [item[\"embedding\"] for item in embedding_data]\n",
    "    metadata = [{\"chunk_id\": item[\"chunk_id\"]} for item in embedding_data]\n",
    "\n",
    "    arr = np.vstack(embeddings).astype(\"float32\")\n",
    "    print(f\"📐 FAISS index shape: {arr.shape}\")\n",
    "\n",
    "    index = faiss.IndexFlatL2(arr.shape[1])\n",
    "    index.add(arr)\n",
    "\n",
    "    faiss.write_index(index, index_path)\n",
    "    with open(metadata_path, \"wb\") as f:\n",
    "        pickle.dump(metadata, f)\n",
    "\n",
    "    print(f\"✅ Stored {len(arr)} vectors in FAISS and metadata\")\n"
   ]
  },
  {
   "cell_type": "code",
   "execution_count": null,
   "id": "7f9da728",
   "metadata": {},
   "outputs": [],
   "source": [
    "store_embeddings_to_faiss(chunk_embeddings, '/Users/abali/github projects/semantic-video-retrieval/embeddings/faiss_index/video_chunks.index', '/Users/abali/github projects/semantic-video-retrieval/embeddings/metadata/chunk_metadata.pkl')  "
   ]
  },
  {
   "cell_type": "code",
   "execution_count": null,
   "id": "98818854",
   "metadata": {},
   "outputs": [],
   "source": [
    "def search_top_chunks(query, index_path, metadata_path, k=5):\n",
    "    # Load index\n",
    "    index = faiss.read_index(index_path)\n",
    "\n",
    "    # Load metadata\n",
    "    with open(metadata_path, \"rb\") as f:\n",
    "        metadata = pickle.load(f)\n",
    "\n",
    "    # Embed query\n",
    "    query_embedding = embed_text(query).astype(\"float32\").reshape(1, -1)\n",
    "\n",
    "    # Search\n",
    "    D, I = index.search(query_embedding, k)\n",
    "\n",
    "    # Collect results\n",
    "    results = []\n",
    "    for i in I[0]:\n",
    "        if i < len(metadata):\n",
    "            results.append(metadata[i])\n",
    "    \n",
    "    return results"
   ]
  },
  {
   "cell_type": "code",
   "execution_count": null,
   "id": "80a3b64d",
   "metadata": {},
   "outputs": [],
   "source": [
    "results = search_top_chunks(\n",
    "    query=\"moving cars\",\n",
    "    index_path=\"/Users/abali/github projects/semantic-video-retrieval/embeddings/faiss_index/video_chunks.index\",\n",
    "    metadata_path=\"/Users/abali/github projects/semantic-video-retrieval/embeddings/metadata/chunk_metadata.pkl\",k=1)\n",
    "\n",
    "for r in results:\n",
    "    print(f\"🎬 Chunk: {r['chunk_id']}\")\n"
   ]
  },
  {
   "cell_type": "code",
   "execution_count": null,
   "id": "0acc8d7e",
   "metadata": {},
   "outputs": [],
   "source": [
    "import os\n",
    "import subprocess\n",
    "\n",
    "# Loop through the search results and play the video\n",
    "for r in results:\n",
    "    # Extract the base video file name (e.g., sample1.mp4 from sample1_chunk0)\n",
    "    video_name = r['chunk_id'].split('_')[0] + '.mp4'\n",
    "    \n",
    "    # Construct the full video path\n",
    "    video_path = os.path.join(\"/Users/abali/github projects/semantic-video-retrieval/data/videos\", video_name)\n",
    "\n",
    "    print(f\"🎬 Chunk: {r['chunk_id']}\")\n",
    "\n",
    "    # Ensure the video exists\n",
    "    if os.path.exists(video_path):\n",
    "        print(f\"▶️ Opening video {video_name}...\")\n",
    "\n",
    "        # Use ffplay to open the entire video\n",
    "        subprocess.Popen([\"open\", video_path])  # macOS-specific command to open video with default player\n",
    "    else:\n",
    "        print(f\"⚠️ Video not found: {video_path}\")\n"
   ]
  },
  {
   "cell_type": "code",
   "execution_count": null,
   "id": "a0f2c0bc",
   "metadata": {},
   "outputs": [],
   "source": []
  }
 ],
 "metadata": {
  "kernelspec": {
   "display_name": ".venv",
   "language": "python",
   "name": "python3"
  },
  "language_info": {
   "codemirror_mode": {
    "name": "ipython",
    "version": 3
   },
   "file_extension": ".py",
   "mimetype": "text/x-python",
   "name": "python",
   "nbconvert_exporter": "python",
   "pygments_lexer": "ipython3",
   "version": "3.9.22"
  }
 },
 "nbformat": 4,
 "nbformat_minor": 5
}
